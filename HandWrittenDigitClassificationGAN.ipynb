{
  "nbformat": 4,
  "nbformat_minor": 0,
  "metadata": {
    "colab": {
      "name": "HandWrittenDigitClassificationGAN.ipynb",
      "provenance": [],
      "collapsed_sections": []
    },
    "kernelspec": {
      "name": "python3",
      "display_name": "Python 3"
    },
    "language_info": {
      "name": "python"
    },
    "accelerator": "GPU"
  },
  "cells": [
    {
      "cell_type": "code",
      "source": [
        "import warnings\n",
        "warnings.filterwarnings(\"ignore\")"
      ],
      "metadata": {
        "id": "JIERuc686HW_"
      },
      "execution_count": null,
      "outputs": []
    },
    {
      "cell_type": "code",
      "execution_count": null,
      "metadata": {
        "id": "yG50HSbvzngQ"
      },
      "outputs": [],
      "source": [
        "from keras.datasets import mnist\n",
        "import keras\n",
        "from keras.layers import *\n",
        "from keras.layers.advanced_activations import LeakyReLU\n",
        "from keras.models import Sequential, Model\n",
        "from tensorflow.keras.optimizers import Adam\n",
        "\n",
        "import numpy as np\n",
        "import matplotlib.pyplot as plt\n"
      ]
    },
    {
      "cell_type": "code",
      "source": [
        "(X_train,_),(_,_)=mnist.load_data()"
      ],
      "metadata": {
        "id": "XPYnrYrv6z8l",
        "colab": {
          "base_uri": "https://localhost:8080/"
        },
        "outputId": "7e067ca5-1f68-4340-8a8f-0977c912ad3e"
      },
      "execution_count": null,
      "outputs": [
        {
          "output_type": "stream",
          "name": "stdout",
          "text": [
            "Downloading data from https://storage.googleapis.com/tensorflow/tf-keras-datasets/mnist.npz\n",
            "11493376/11490434 [==============================] - 0s 0us/step\n",
            "11501568/11490434 [==============================] - 0s 0us/step\n"
          ]
        }
      ]
    },
    {
      "cell_type": "code",
      "source": [
        "X_train.shape"
      ],
      "metadata": {
        "colab": {
          "base_uri": "https://localhost:8080/"
        },
        "id": "iW0tmap07Ib1",
        "outputId": "d9475e31-6264-421e-8258-37c51498a9d9"
      },
      "execution_count": null,
      "outputs": [
        {
          "output_type": "execute_result",
          "data": {
            "text/plain": [
              "(60000, 28, 28)"
            ]
          },
          "metadata": {},
          "execution_count": 4
        }
      ]
    },
    {
      "cell_type": "code",
      "source": [
        "X_train=(X_train-127.5)/127.5\n",
        "\n",
        "print(X_train.min())\n",
        "print(X_train.max())"
      ],
      "metadata": {
        "colab": {
          "base_uri": "https://localhost:8080/"
        },
        "id": "TjM0u72n7NJ2",
        "outputId": "3148f179-56be-49aa-9cf4-533f1d1570f1"
      },
      "execution_count": null,
      "outputs": [
        {
          "output_type": "stream",
          "name": "stdout",
          "text": [
            "-1.0\n",
            "1.0\n"
          ]
        }
      ]
    },
    {
      "cell_type": "code",
      "source": [
        "TOTAL_EPOCHS =50\n",
        "BATCH_SIZE=256\n",
        "HALF_BATCH =128\n",
        "NO_OF_BATCH=int(X_train.shape[0]/BATCH_SIZE)\n",
        "NOISE_DIM=100\n",
        "adam=Adam(lr=2e-4,beta_1=0.5)"
      ],
      "metadata": {
        "id": "Ced2V6FW7f0F"
      },
      "execution_count": null,
      "outputs": []
    },
    {
      "cell_type": "code",
      "source": [
        "#Generator Model\n",
        "\n",
        "generator=Sequential()\n",
        "generator.add(Dense(units=7*7*128,input_shape=(NOISE_DIM,)))\n",
        "generator.add(Reshape((7,7,128)))\n",
        "generator.add(LeakyReLU(0.2))\n",
        "generator.add(BatchNormalization())\n",
        "\n",
        "#(7,7,128)->(14,14,64)\n",
        "\n",
        "generator.add(Conv2DTranspose(64,(3,3),strides=(2,2),padding='same'))\n",
        "generator.add(LeakyReLU(0.2))\n",
        "generator.add(BatchNormalization())\n",
        "\n",
        "#14,14,64 ->28,28,1\n",
        "\n",
        "generator.add(Conv2DTranspose(1,(3,3),strides=(2,2),padding='same',activation='tanh'))\n",
        "generator.compile(loss=keras.losses.binary_crossentropy,optimizer=adam)\n",
        "\n",
        "generator.summary()"
      ],
      "metadata": {
        "colab": {
          "base_uri": "https://localhost:8080/"
        },
        "id": "WgBNf5CE9zlP",
        "outputId": "b0d9c6f8-fdf3-482f-f68f-9668e4738a97"
      },
      "execution_count": null,
      "outputs": [
        {
          "output_type": "stream",
          "name": "stdout",
          "text": [
            "Model: \"sequential\"\n",
            "_________________________________________________________________\n",
            " Layer (type)                Output Shape              Param #   \n",
            "=================================================================\n",
            " dense (Dense)               (None, 6272)              633472    \n",
            "                                                                 \n",
            " reshape (Reshape)           (None, 7, 7, 128)         0         \n",
            "                                                                 \n",
            " leaky_re_lu (LeakyReLU)     (None, 7, 7, 128)         0         \n",
            "                                                                 \n",
            " batch_normalization (BatchN  (None, 7, 7, 128)        512       \n",
            " ormalization)                                                   \n",
            "                                                                 \n",
            " conv2d_transpose (Conv2DTra  (None, 14, 14, 64)       73792     \n",
            " nspose)                                                         \n",
            "                                                                 \n",
            " leaky_re_lu_1 (LeakyReLU)   (None, 14, 14, 64)        0         \n",
            "                                                                 \n",
            " batch_normalization_1 (Batc  (None, 14, 14, 64)       256       \n",
            " hNormalization)                                                 \n",
            "                                                                 \n",
            " conv2d_transpose_1 (Conv2DT  (None, 28, 28, 1)        577       \n",
            " ranspose)                                                       \n",
            "                                                                 \n",
            "=================================================================\n",
            "Total params: 708,609\n",
            "Trainable params: 708,225\n",
            "Non-trainable params: 384\n",
            "_________________________________________________________________\n"
          ]
        }
      ]
    },
    {
      "cell_type": "code",
      "source": [
        "#Discriminator Model   ->Downsampling\n",
        "\n",
        "#28,28,2 -> 14,14,64\n",
        "\n",
        "discriminator=Sequential()\n",
        "discriminator.add(Conv2D(64,kernel_size=(3,3),strides=(2,2),padding='same',input_shape=(28,28,1)))\n",
        "discriminator.add(LeakyReLU(0.2))\n",
        "\n",
        "#14,14,64 -> 7,7,128\n",
        "discriminator.add(Conv2D(128,kernel_size=(3,3),strides=(2,2),padding='same'))\n",
        "discriminator.add(LeakyReLU(0.2))\n",
        "\n",
        "#7,7,128 ->6272\n",
        "discriminator.add(Flatten())\n",
        "discriminator.add(Dense(100))\n",
        "discriminator.add(LeakyReLU(0.2))\n",
        "\n",
        "discriminator.add(Dense(1,activation='sigmoid'))\n",
        "discriminator.compile(loss=keras.losses.binary_crossentropy,optimizer=adam)\n",
        "discriminator.summary()\n",
        "\n"
      ],
      "metadata": {
        "colab": {
          "base_uri": "https://localhost:8080/"
        },
        "id": "2bMxrHkFCBGe",
        "outputId": "e184ee5b-ce61-4717-c58a-83757ca31bcb"
      },
      "execution_count": null,
      "outputs": [
        {
          "output_type": "stream",
          "name": "stdout",
          "text": [
            "Model: \"sequential_1\"\n",
            "_________________________________________________________________\n",
            " Layer (type)                Output Shape              Param #   \n",
            "=================================================================\n",
            " conv2d (Conv2D)             (None, 14, 14, 64)        640       \n",
            "                                                                 \n",
            " leaky_re_lu_2 (LeakyReLU)   (None, 14, 14, 64)        0         \n",
            "                                                                 \n",
            " conv2d_1 (Conv2D)           (None, 7, 7, 128)         73856     \n",
            "                                                                 \n",
            " leaky_re_lu_3 (LeakyReLU)   (None, 7, 7, 128)         0         \n",
            "                                                                 \n",
            " flatten (Flatten)           (None, 6272)              0         \n",
            "                                                                 \n",
            " dense_1 (Dense)             (None, 100)               627300    \n",
            "                                                                 \n",
            " leaky_re_lu_4 (LeakyReLU)   (None, 100)               0         \n",
            "                                                                 \n",
            " dense_2 (Dense)             (None, 1)                 101       \n",
            "                                                                 \n",
            "=================================================================\n",
            "Total params: 701,897\n",
            "Trainable params: 701,897\n",
            "Non-trainable params: 0\n",
            "_________________________________________________________________\n"
          ]
        }
      ]
    },
    {
      "cell_type": "code",
      "source": [
        "#COMBINED MODEL\n",
        "\n",
        "discriminator.trainable=False\n",
        "gan_input=Input(shape=(NOISE_DIM, ))\n",
        "generated_img=generator(gan_input )\n",
        "gan_output=discriminator(generated_img)\n",
        "\n",
        "#Functional API\n",
        "model=Model(gan_input,gan_output)\n",
        "model.compile(loss=keras.losses.binary_crossentropy,optimizer=adam)\n",
        "model.summary()"
      ],
      "metadata": {
        "colab": {
          "base_uri": "https://localhost:8080/"
        },
        "id": "-p4ymOo2DodO",
        "outputId": "922c5756-38a7-4393-dc55-da5daf333304"
      },
      "execution_count": null,
      "outputs": [
        {
          "output_type": "stream",
          "name": "stdout",
          "text": [
            "Model: \"model\"\n",
            "_________________________________________________________________\n",
            " Layer (type)                Output Shape              Param #   \n",
            "=================================================================\n",
            " input_1 (InputLayer)        [(None, 100)]             0         \n",
            "                                                                 \n",
            " sequential (Sequential)     (None, 28, 28, 1)         708609    \n",
            "                                                                 \n",
            " sequential_1 (Sequential)   (None, 1)                 701897    \n",
            "                                                                 \n",
            "=================================================================\n",
            "Total params: 1,410,506\n",
            "Trainable params: 708,225\n",
            "Non-trainable params: 702,281\n",
            "_________________________________________________________________\n"
          ]
        }
      ]
    },
    {
      "cell_type": "code",
      "source": [
        "X_train=X_train.reshape(-1,28,28,1)\n",
        "X_train.shape"
      ],
      "metadata": {
        "colab": {
          "base_uri": "https://localhost:8080/"
        },
        "id": "0ovrkZvmIPar",
        "outputId": "2e1d352d-acc3-4c01-cfe7-404551994178"
      },
      "execution_count": null,
      "outputs": [
        {
          "output_type": "execute_result",
          "data": {
            "text/plain": [
              "(60000, 28, 28, 1)"
            ]
          },
          "metadata": {},
          "execution_count": 10
        }
      ]
    },
    {
      "cell_type": "code",
      "source": [
        "def display_images(samples=25):\n",
        "  noise=np.random.normal(0,1,size=(samples,NOISE_DIM))\n",
        "  generated_img=generator.predict(noise)\n",
        "  plt.figure(figsize=(10,10))\n",
        "  for i in range(samples):\n",
        "    plt.subplot(5,5,i+1)\n",
        "    plt.imshow(generated_img[i].reshape(28,28), cmap=\"binary\")\n",
        "    plt.axis('off')\n",
        "  plt.show()"
      ],
      "metadata": {
        "id": "QLqNTG6vVaXQ"
      },
      "execution_count": null,
      "outputs": []
    },
    {
      "cell_type": "code",
      "source": [
        "#Training Loop\n",
        "d_losses=[]\n",
        "g_losses=[]\n",
        "for epoch in range(TOTAL_EPOCHS):\n",
        "  epoch_d_loss=0.0\n",
        "  epoch_g_loss=0.0\n",
        "\n",
        "  #Mini batch gradient descent\n",
        "  for step in range(NO_OF_BATCH):\n",
        "    #1Training Descriminator\n",
        "    discriminator.trainable=True\n",
        "\n",
        "    #get the real data\n",
        "    idx=np.random.randint(0,60000,HALF_BATCH)\n",
        "    real_imgs = X_train[idx]\n",
        "\n",
        "    #get fake data\n",
        "    noise=np.random.normal(0,1,size=(HALF_BATCH,NOISE_DIM))\n",
        "    fake_imgs=generator.predict(noise)\n",
        "\n",
        "    #labels\n",
        "    real_y=np.ones((HALF_BATCH,1))*0.9\n",
        "    fake_y=np.zeros((HALF_BATCH,1))\n",
        "\n",
        "    #Now, train D\n",
        "    d_loss_real=discriminator.train_on_batch(real_imgs,real_y)\n",
        "    d_loss_fake=discriminator.train_on_batch(fake_imgs,fake_y)\n",
        "\n",
        "    d_loss=0.5*d_loss_real + 0.5*d_loss_fake\n",
        "\n",
        "    epoch_d_loss += d_loss\n",
        "\n",
        "    #2 TRAIN GENERATOR\n",
        "    discriminator.trainable=False\n",
        "\n",
        "    noise=np.random.normal(0,1,size=(BATCH_SIZE,NOISE_DIM))\n",
        "    ground_truth_y=np.ones((BATCH_SIZE,1))\n",
        "    g_loss=model.train_on_batch(noise,ground_truth_y)\n",
        "    epoch_g_loss +=g_loss\n",
        "\n",
        "\n",
        "    print(f\"Epoch{epoch+1},Disc loss{epoch_d_loss/NO_OF_BATCH},Generator loss{epoch_d_loss/NO_OF_BATCH}\")\n",
        "    d_losses.append(epoch_d_loss/NO_OF_BATCH)\n",
        "    g_losses.append(epoch_g_loss/NO_OF_BATCH)\n",
        "\n",
        "    if(epoch+1)%10==0:\n",
        "      generator.save(\"generator.h5\")\n",
        "      display_images()\n"
      ],
      "metadata": {
        "id": "ZUQIN5T_Ia3C",
        "colab": {
          "base_uri": "https://localhost:8080/",
          "height": 1000
        },
        "outputId": "c5764dd3-316a-4313-cf08-4c16c3f15e49"
      },
      "execution_count": null,
      "outputs": []
    },
    {
      "cell_type": "code",
      "source": [
        ""
      ],
      "metadata": {
        "id": "eiIQ94YxFWbe"
      },
      "execution_count": null,
      "outputs": []
    }
  ]
}